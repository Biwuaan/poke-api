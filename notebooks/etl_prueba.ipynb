{
 "cells": [
  {
   "cell_type": "code",
   "execution_count": 27,
   "id": "5ceb08b5",
   "metadata": {},
   "outputs": [],
   "source": [
    "# Celda 1: importar librerías\n",
    "import requests\n",
    "import pandas as pd\n",
    "import time\n",
    "import json\n",
    "from sqlalchemy import create_engine, text\n",
    "from time import sleep\n",
    "\n",
    "tipos_list = []\n",
    "habilidades_list = []\n",
    "lista_poke = []"
   ]
  },
  {
   "cell_type": "code",
   "execution_count": 28,
   "id": "92690204",
   "metadata": {},
   "outputs": [],
   "source": [
    "usuario = \"postgres\"         # o el que hayas definido\n",
    "password = \"1234\"  # la que pusiste al instalar PostgreSQL\n",
    "host = \"localhost\"\n",
    "puerto = \"5432\"\n",
    "nombre_bd = \"pokemon_db\"\n",
    "\n",
    "engine = create_engine(f'postgresql+psycopg2://{usuario}:{password}@{host}:{puerto}/{nombre_bd}')\n",
    "\n",
    "with engine.connect() as conn:\n",
    "    conn.execute(text(\"DROP TABLE IF EXISTS pokemon\"))\n",
    "    conn.commit()  # <-- esto es lo que probablemente faltaba"
   ]
  },
  {
   "cell_type": "code",
   "execution_count": 3,
   "id": "55b7b1d9",
   "metadata": {},
   "outputs": [],
   "source": [
    "resp = requests.get('https://pokeapi.co/api/v2/pokemon')\n",
    "data = resp.json()\n",
    "total_pokemons = data['count']"
   ]
  },
  {
   "cell_type": "code",
   "execution_count": 22,
   "id": "b265e3e1",
   "metadata": {},
   "outputs": [],
   "source": [
    "def extrae_pokemons(id):\n",
    "    try:\n",
    "        resp = requests.get(f'https://pokeapi.co/api/v2/pokemon/{id}')\n",
    "        time.sleep(0.5)\n",
    "        if resp.status_code != 200:\n",
    "            print(f\"Fallo en el id {id}\")\n",
    "            return None\n",
    "        data = resp.json()\n",
    "\n",
    "         # Stats como diccionario\n",
    "        stats = {s[\"stat\"][\"name\"]: s[\"base_stat\"] for s in data[\"stats\"]}\n",
    "\n",
    "        # Tipos y habilidades como listas\n",
    "        tipos = [t[\"type\"][\"name\"] for t in data[\"types\"]]\n",
    "        habilidades = [a[\"ability\"][\"name\"] for a in data[\"abilities\"]]\n",
    "\n",
    "        # También llenamos las tablas relacionales si las vas a usar luego\n",
    "        for t in tipos:\n",
    "            tipos_list.append({\"pokemon_id\": data[\"id\"], \"tipo\": t})\n",
    "        for h in habilidades:\n",
    "            habilidades_list.append({\"pokemon_id\": data[\"id\"], \"habilidad\": h})\n",
    "\n",
    "        return{\n",
    "            \"id\": data[\"id\"],\n",
    "            \"name\": data[\"name\"],\n",
    "            \"height\": data[\"height\"],\n",
    "            \"weight\": data[\"weight\"],\n",
    "            \"base_experience\": data[\"base_experience\"],\n",
    "            \"types\": json.dumps(tipos),       # Guardado como texto\n",
    "            \"abilities\": json.dumps(habilidades),\n",
    "            \"hp\": stats.get(\"hp\"),\n",
    "            \"attack\": stats.get(\"attack\"),\n",
    "            \"defense\": stats.get(\"defense\")\n",
    "        }\n",
    "    except Exception as e:\n",
    "        print(f\"error con id{id}: {e}\")\n",
    "        return None\n"
   ]
  },
  {
   "cell_type": "code",
   "execution_count": null,
   "id": "3651b43f",
   "metadata": {},
   "outputs": [],
   "source": [
    "for i in range(1, total_pokemons, 100):\n",
    "    lista_poke = []\n",
    "    grupo = list(range(i, min(i + 100, total_pokemons)))\n",
    "\n",
    "    for poke_id in grupo:\n",
    "        info = extrae_pokemons(poke_id)  # <--- aquí defines `info`\n",
    "        if info:                         # <--- validas que no sea None\n",
    "            lista_poke.append(info)\n",
    "\n",
    "    df = pd.DataFrame(lista_poke)\n",
    "    df.to_sql('pokemon', engine, if_exists='append', index=False)\n",
    "    sleep(1)"
   ]
  }
 ],
 "metadata": {
  "kernelspec": {
   "display_name": "venv",
   "language": "python",
   "name": "python3"
  },
  "language_info": {
   "codemirror_mode": {
    "name": "ipython",
    "version": 3
   },
   "file_extension": ".py",
   "mimetype": "text/x-python",
   "name": "python",
   "nbconvert_exporter": "python",
   "pygments_lexer": "ipython3",
   "version": "3.10.4"
  }
 },
 "nbformat": 4,
 "nbformat_minor": 5
}
